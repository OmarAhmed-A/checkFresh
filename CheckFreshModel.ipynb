{
 "cells": [
  {
   "cell_type": "markdown",
   "metadata": {},
   "source": [
    "# 🍎 Fresh vs Rotten Fruit Classification Model\n",
    "\n",
    "This notebook builds a deep learning model using **EfficientNetV2B1** to classify fruits as fresh or rotten. The model can identify 6 classes:\n",
    "- Fresh apples, bananas, oranges\n",
    "- Rotten apples, bananas, oranges\n",
    "\n",
    "## 📊 Dataset Overview\n",
    "- **Training samples**: 10,901 images\n",
    "- **Validation samples**: 2,698 images\n",
    "- **Classes**: 6 (3 fruit types × 2 conditions)\n",
    "\n",
    "## 🔧 Model Architecture\n",
    "- **Base Model**: EfficientNetV2B1 (pre-trained on ImageNet)\n",
    "- **Input Size**: 240×240×3\n",
    "- **Training Strategy**: Transfer learning with fine-tuning"
   ]
  },
  {
   "cell_type": "markdown",
   "metadata": {},
   "source": [
    "## 📁 Dataset Setup\n",
    "\n",
    "First, we'll download the fruits dataset from Kaggle and set up the directory structure."
   ]
  },
  {
   "cell_type": "code",
   "execution_count": null,
   "metadata": {
    "colab": {
     "base_uri": "https://localhost:8080/"
    },
    "id": "e6z5w0TVk2Qj",
    "outputId": "f6ddc9d4-b850-4cb9-e84c-9b1bdc900dcc"
   },
   "outputs": [
    {
     "name": "stdout",
     "output_type": "stream",
     "text": [
      "Path to dataset files: /kaggle/input/fruits-fresh-and-rotten-for-classification\n",
      "TRAIN_DIR: /kaggle/input/fruits-fresh-and-rotten-for-classification/dataset/train\n",
      "TEST_DIR: /kaggle/input/fruits-fresh-and-rotten-for-classification/dataset/test\n"
     ]
    }
   ],
   "source": [
    "# KaggleHub Dataset Download and Initial File Inspection\n",
    "import kagglehub\n",
    "import os\n",
    "\n",
    "# Download latest version\n",
    "path = kagglehub.dataset_download(\"sriramr/fruits-fresh-and-rotten-for-classification\")\n",
    "print(\"Path to dataset files:\", path)\n",
    "\n",
    "os.system(\"rm -rf /root/.cache/kagglehub/datasets/sriramr/fruits-fresh-and-rotten-for-classification/versions/1/dataset/dataset\")\n",
    "os.system(\"find /root/.cache/kagglehub/datasets/sriramr/fruits-fresh-and-rotten-for-classification/versions/1/dataset -type f | sed 's|/[^/]*$||' | sort | uniq -c\")\n",
    "\n",
    "# It's good practice to ensure the path from kagglehub is used directly\n",
    "dataset_base_path = os.path.join(path, 'dataset') # Assuming 'dataset' is the subfolder after version\n",
    "TRAIN_DIR = os.path.join(dataset_base_path, 'train')\n",
    "TEST_DIR = os.path.join(dataset_base_path, 'test')\n",
    "\n",
    "print(f\"TRAIN_DIR: {TRAIN_DIR}\")\n",
    "print(f\"TEST_DIR: {TEST_DIR}\")\n",
    "\n",
    "# Verify directories exist (optional but good for debugging)\n",
    "if not os.path.exists(TRAIN_DIR):\n",
    "    print(f\"ERROR: TRAIN_DIR does not exist: {TRAIN_DIR}\")\n",
    "if not os.path.exists(TEST_DIR):\n",
    "    print(f\"ERROR: TEST_DIR does not exist: {TEST_DIR}\")"
   ]
  },
  {
   "cell_type": "markdown",
   "metadata": {},
   "source": [
    "## 📚 Import Libraries\n",
    "\n",
    "Loading the necessary libraries for deep learning and model building."
   ]
  },
  {
   "cell_type": "code",
   "execution_count": null,
   "metadata": {
    "id": "revKlZgUk6Ap"
   },
   "outputs": [],
   "source": [
    "import tensorflow as tf\n",
    "from tensorflow import keras"
   ]
  },
  {
   "cell_type": "markdown",
   "metadata": {},
   "source": [
    "## ⚙️ Model Configuration\n",
    "\n",
    "Setting up the hyperparameters and dataset specifications for our model."
   ]
  },
  {
   "cell_type": "code",
   "execution_count": null,
   "metadata": {
    "id": "TO7zfBRalBV2"
   },
   "outputs": [],
   "source": [
    "IMG_SIZE = (240, 240)\n",
    "BATCH_SIZE = 32\n",
    "NUM_CLASSES = 6\n",
    "\n",
    "NUM_TRAIN_SAMPLES = 10901\n",
    "NUM_VALID_SAMPLES = 2698\n",
    "\n",
    "STEPS_PER_EPOCH = NUM_TRAIN_SAMPLES // BATCH_SIZE\n",
    "VALIDATION_STEPS = NUM_VALID_SAMPLES // BATCH_SIZE"
   ]
  },
  {
   "cell_type": "markdown",
   "metadata": {},
   "source": [
    "## 🗂️ Data Loading\n",
    "\n",
    "Loading and preprocessing the image datasets from the directory structure."
   ]
  },
  {
   "cell_type": "code",
   "execution_count": null,
   "metadata": {
    "colab": {
     "base_uri": "https://localhost:8080/"
    },
    "id": "snSfrEkIlDcM",
    "outputId": "a1bbbb95-ab04-4810-98a6-e753dd5cb6f7"
   },
   "outputs": [
    {
     "name": "stdout",
     "output_type": "stream",
     "text": [
      "Found 10901 files belonging to 6 classes.\n",
      "Found 2698 files belonging to 6 classes.\n"
     ]
    }
   ],
   "source": [
    "train_dataset = tf.keras.utils.image_dataset_from_directory(\n",
    "    TRAIN_DIR,\n",
    "    labels='inferred',\n",
    "    label_mode='categorical',\n",
    "    image_size=IMG_SIZE,\n",
    "    interpolation='bilinear',\n",
    "    batch_size=BATCH_SIZE,\n",
    "    shuffle=True\n",
    ")\n",
    "\n",
    "valid_dataset = tf.keras.utils.image_dataset_from_directory(\n",
    "    TEST_DIR,\n",
    "    labels='inferred',\n",
    "    label_mode='categorical',\n",
    "    image_size=IMG_SIZE,\n",
    "    interpolation='bilinear',\n",
    "    batch_size=BATCH_SIZE,\n",
    "    shuffle=False\n",
    ")"
   ]
  },
  {
   "cell_type": "markdown",
   "metadata": {},
   "source": [
    "## 🔄 Data Augmentation\n",
    "\n",
    "Setting up data augmentation techniques to improve model generalization and prevent overfitting."
   ]
  },
  {
   "cell_type": "code",
   "execution_count": null,
   "metadata": {
    "id": "1CjWQ5NolH0Z"
   },
   "outputs": [],
   "source": [
    "data_augmentation_layers = tf.keras.Sequential([\n",
    "    tf.keras.layers.RandomFlip(\"horizontal_and_vertical\"),\n",
    "    tf.keras.layers.RandomRotation(0.2),\n",
    "    tf.keras.layers.RandomZoom(0.2),\n",
    "    tf.keras.layers.RandomTranslation(height_factor=0.1, width_factor=0.1),\n",
    "    tf.keras.layers.RandomContrast(0.1),\n",
    "], name=\"data_augmentation\")"
   ]
  },
  {
   "cell_type": "code",
   "execution_count": null,
   "metadata": {
    "id": "yNFgLMsxlKl1"
   },
   "outputs": [],
   "source": [
    "# Block 6: Preprocessing Function and Dataset Mapping\n",
    "# The EfficientNetV2B1 model with include_preprocessing=True will handle rescaling.\n",
    "# So, this function just applies the augmentation to the training images.\n",
    "\n",
    "def preprocess_and_augment_train(image, label):\n",
    "    image = data_augmentation_layers(image, training=True)\n",
    "    return image, label\n",
    "\n",
    "AUTOTUNE = tf.data.AUTOTUNE\n",
    "\n",
    "train_dataset = train_dataset.map(preprocess_and_augment_train, num_parallel_calls=AUTOTUNE)\n",
    "\n",
    "train_dataset = train_dataset.prefetch(buffer_size=AUTOTUNE)\n",
    "valid_dataset = valid_dataset.prefetch(buffer_size=AUTOTUNE)"
   ]
  },
  {
   "cell_type": "markdown",
   "metadata": {},
   "source": [
    "## 🏗️ Model Architecture\n",
    "\n",
    "Building the neural network using EfficientNetV2B1 as the base model with custom classification layers."
   ]
  },
  {
   "cell_type": "code",
   "execution_count": null,
   "metadata": {
    "colab": {
     "base_uri": "https://localhost:8080/"
    },
    "id": "OhFJY-zN4vZm",
    "outputId": "f2f0e8ca-7b45-4a31-ad36-99d2332aa6d1"
   },
   "outputs": [
    {
     "name": "stdout",
     "output_type": "stream",
     "text": [
      "Downloading data from https://storage.googleapis.com/tensorflow/keras-applications/efficientnet_v2/efficientnetv2-b1_notop.h5\n",
      "\u001b[1m28456008/28456008\u001b[0m \u001b[32m━━━━━━━━━━━━━━━━━━━━\u001b[0m\u001b[37m\u001b[0m \u001b[1m0s\u001b[0m 0us/step\n"
     ]
    }
   ],
   "source": [
    "base_model = keras.applications.EfficientNetV2B1(\n",
    "    weights='imagenet',\n",
    "    input_shape=IMG_SIZE + (3,),\n",
    "    include_top=False,\n",
    "    include_preprocessing=True\n",
    ")\n",
    "\n",
    "base_model.trainable = False"
   ]
  },
  {
   "cell_type": "code",
   "execution_count": null,
   "metadata": {
    "id": "tjFzQcDf4xZO"
   },
   "outputs": [],
   "source": [
    "inputs = keras.Input(shape=IMG_SIZE + (3,))\n",
    "\n",
    "x = base_model(inputs, training=False)\n",
    "x = keras.layers.GlobalAveragePooling2D()(x)\n",
    "x = keras.layers.Dropout(0.3)(x)\n",
    "outputs = keras.layers.Dense(NUM_CLASSES, activation='softmax')(x)\n",
    "\n",
    "model = keras.Model(inputs=inputs, outputs=outputs)"
   ]
  },
  {
   "cell_type": "code",
   "execution_count": null,
   "metadata": {
    "colab": {
     "base_uri": "https://localhost:8080/",
     "height": 305
    },
    "id": "SmlrVx2N44LO",
    "outputId": "6689ee3b-f938-446a-ca47-14a03577fc53"
   },
   "outputs": [
    {
     "data": {
      "text/html": [
       "<pre style=\"white-space:pre;overflow-x:auto;line-height:normal;font-family:Menlo,'DejaVu Sans Mono',consolas,'Courier New',monospace\"><span style=\"font-weight: bold\">Model: \"functional_5\"</span>\n",
       "</pre>\n"
      ],
      "text/plain": [
       "\u001b[1mModel: \"functional_5\"\u001b[0m\n"
      ]
     },
     "metadata": {},
     "output_type": "display_data"
    },
    {
     "data": {
      "text/html": [
       "<pre style=\"white-space:pre;overflow-x:auto;line-height:normal;font-family:Menlo,'DejaVu Sans Mono',consolas,'Courier New',monospace\">┏━━━━━━━━━━━━━━━━━━━━━━━━━━━━━━━━━┳━━━━━━━━━━━━━━━━━━━━━━━━┳━━━━━━━━━━━━━━━┓\n",
       "┃<span style=\"font-weight: bold\"> Layer (type)                    </span>┃<span style=\"font-weight: bold\"> Output Shape           </span>┃<span style=\"font-weight: bold\">       Param # </span>┃\n",
       "┡━━━━━━━━━━━━━━━━━━━━━━━━━━━━━━━━━╇━━━━━━━━━━━━━━━━━━━━━━━━╇━━━━━━━━━━━━━━━┩\n",
       "│ input_layer_7 (<span style=\"color: #0087ff; text-decoration-color: #0087ff\">InputLayer</span>)      │ (<span style=\"color: #00d7ff; text-decoration-color: #00d7ff\">None</span>, <span style=\"color: #00af00; text-decoration-color: #00af00\">240</span>, <span style=\"color: #00af00; text-decoration-color: #00af00\">240</span>, <span style=\"color: #00af00; text-decoration-color: #00af00\">3</span>)    │             <span style=\"color: #00af00; text-decoration-color: #00af00\">0</span> │\n",
       "├─────────────────────────────────┼────────────────────────┼───────────────┤\n",
       "│ efficientnetv2-b1 (<span style=\"color: #0087ff; text-decoration-color: #0087ff\">Functional</span>)  │ (<span style=\"color: #00d7ff; text-decoration-color: #00d7ff\">None</span>, <span style=\"color: #00af00; text-decoration-color: #00af00\">8</span>, <span style=\"color: #00af00; text-decoration-color: #00af00\">8</span>, <span style=\"color: #00af00; text-decoration-color: #00af00\">1280</span>)     │     <span style=\"color: #00af00; text-decoration-color: #00af00\">6,931,124</span> │\n",
       "├─────────────────────────────────┼────────────────────────┼───────────────┤\n",
       "│ global_average_pooling2d_2      │ (<span style=\"color: #00d7ff; text-decoration-color: #00d7ff\">None</span>, <span style=\"color: #00af00; text-decoration-color: #00af00\">1280</span>)           │             <span style=\"color: #00af00; text-decoration-color: #00af00\">0</span> │\n",
       "│ (<span style=\"color: #0087ff; text-decoration-color: #0087ff\">GlobalAveragePooling2D</span>)        │                        │               │\n",
       "├─────────────────────────────────┼────────────────────────┼───────────────┤\n",
       "│ dropout (<span style=\"color: #0087ff; text-decoration-color: #0087ff\">Dropout</span>)               │ (<span style=\"color: #00d7ff; text-decoration-color: #00d7ff\">None</span>, <span style=\"color: #00af00; text-decoration-color: #00af00\">1280</span>)           │             <span style=\"color: #00af00; text-decoration-color: #00af00\">0</span> │\n",
       "├─────────────────────────────────┼────────────────────────┼───────────────┤\n",
       "│ dense_2 (<span style=\"color: #0087ff; text-decoration-color: #0087ff\">Dense</span>)                 │ (<span style=\"color: #00d7ff; text-decoration-color: #00d7ff\">None</span>, <span style=\"color: #00af00; text-decoration-color: #00af00\">6</span>)              │         <span style=\"color: #00af00; text-decoration-color: #00af00\">7,686</span> │\n",
       "└─────────────────────────────────┴────────────────────────┴───────────────┘\n",
       "</pre>\n"
      ],
      "text/plain": [
       "┏━━━━━━━━━━━━━━━━━━━━━━━━━━━━━━━━━┳━━━━━━━━━━━━━━━━━━━━━━━━┳━━━━━━━━━━━━━━━┓\n",
       "┃\u001b[1m \u001b[0m\u001b[1mLayer (type)                   \u001b[0m\u001b[1m \u001b[0m┃\u001b[1m \u001b[0m\u001b[1mOutput Shape          \u001b[0m\u001b[1m \u001b[0m┃\u001b[1m \u001b[0m\u001b[1m      Param #\u001b[0m\u001b[1m \u001b[0m┃\n",
       "┡━━━━━━━━━━━━━━━━━━━━━━━━━━━━━━━━━╇━━━━━━━━━━━━━━━━━━━━━━━━╇━━━━━━━━━━━━━━━┩\n",
       "│ input_layer_7 (\u001b[38;5;33mInputLayer\u001b[0m)      │ (\u001b[38;5;45mNone\u001b[0m, \u001b[38;5;34m240\u001b[0m, \u001b[38;5;34m240\u001b[0m, \u001b[38;5;34m3\u001b[0m)    │             \u001b[38;5;34m0\u001b[0m │\n",
       "├─────────────────────────────────┼────────────────────────┼───────────────┤\n",
       "│ efficientnetv2-b1 (\u001b[38;5;33mFunctional\u001b[0m)  │ (\u001b[38;5;45mNone\u001b[0m, \u001b[38;5;34m8\u001b[0m, \u001b[38;5;34m8\u001b[0m, \u001b[38;5;34m1280\u001b[0m)     │     \u001b[38;5;34m6,931,124\u001b[0m │\n",
       "├─────────────────────────────────┼────────────────────────┼───────────────┤\n",
       "│ global_average_pooling2d_2      │ (\u001b[38;5;45mNone\u001b[0m, \u001b[38;5;34m1280\u001b[0m)           │             \u001b[38;5;34m0\u001b[0m │\n",
       "│ (\u001b[38;5;33mGlobalAveragePooling2D\u001b[0m)        │                        │               │\n",
       "├─────────────────────────────────┼────────────────────────┼───────────────┤\n",
       "│ dropout (\u001b[38;5;33mDropout\u001b[0m)               │ (\u001b[38;5;45mNone\u001b[0m, \u001b[38;5;34m1280\u001b[0m)           │             \u001b[38;5;34m0\u001b[0m │\n",
       "├─────────────────────────────────┼────────────────────────┼───────────────┤\n",
       "│ dense_2 (\u001b[38;5;33mDense\u001b[0m)                 │ (\u001b[38;5;45mNone\u001b[0m, \u001b[38;5;34m6\u001b[0m)              │         \u001b[38;5;34m7,686\u001b[0m │\n",
       "└─────────────────────────────────┴────────────────────────┴───────────────┘\n"
      ]
     },
     "metadata": {},
     "output_type": "display_data"
    },
    {
     "data": {
      "text/html": [
       "<pre style=\"white-space:pre;overflow-x:auto;line-height:normal;font-family:Menlo,'DejaVu Sans Mono',consolas,'Courier New',monospace\"><span style=\"font-weight: bold\"> Total params: </span><span style=\"color: #00af00; text-decoration-color: #00af00\">6,938,810</span> (26.47 MB)\n",
       "</pre>\n"
      ],
      "text/plain": [
       "\u001b[1m Total params: \u001b[0m\u001b[38;5;34m6,938,810\u001b[0m (26.47 MB)\n"
      ]
     },
     "metadata": {},
     "output_type": "display_data"
    },
    {
     "data": {
      "text/html": [
       "<pre style=\"white-space:pre;overflow-x:auto;line-height:normal;font-family:Menlo,'DejaVu Sans Mono',consolas,'Courier New',monospace\"><span style=\"font-weight: bold\"> Trainable params: </span><span style=\"color: #00af00; text-decoration-color: #00af00\">7,686</span> (30.02 KB)\n",
       "</pre>\n"
      ],
      "text/plain": [
       "\u001b[1m Trainable params: \u001b[0m\u001b[38;5;34m7,686\u001b[0m (30.02 KB)\n"
      ]
     },
     "metadata": {},
     "output_type": "display_data"
    },
    {
     "data": {
      "text/html": [
       "<pre style=\"white-space:pre;overflow-x:auto;line-height:normal;font-family:Menlo,'DejaVu Sans Mono',consolas,'Courier New',monospace\"><span style=\"font-weight: bold\"> Non-trainable params: </span><span style=\"color: #00af00; text-decoration-color: #00af00\">6,931,124</span> (26.44 MB)\n",
       "</pre>\n"
      ],
      "text/plain": [
       "\u001b[1m Non-trainable params: \u001b[0m\u001b[38;5;34m6,931,124\u001b[0m (26.44 MB)\n"
      ]
     },
     "metadata": {},
     "output_type": "display_data"
    }
   ],
   "source": [
    "# Block 9: Initial Model Compilation and Summary\n",
    "model.compile(\n",
    "    optimizer=keras.optimizers.Adam(learning_rate=0.001),\n",
    "    loss=keras.losses.CategoricalCrossentropy(),\n",
    "    metrics=[keras.metrics.CategoricalAccuracy()]\n",
    ")\n",
    "\n",
    "model.summary()"
   ]
  },
  {
   "cell_type": "markdown",
   "metadata": {},
   "source": [
    "## 🎯 Initial Training (Transfer Learning)\n",
    "\n",
    "Training the model with the base layers frozen to establish good feature representations."
   ]
  },
  {
   "cell_type": "code",
   "execution_count": null,
   "metadata": {
    "colab": {
     "base_uri": "https://localhost:8080/"
    },
    "id": "nNEVyOAv48Gx",
    "outputId": "cf1d4449-1bf1-4d85-ce11-b564f7981e94"
   },
   "outputs": [
    {
     "name": "stdout",
     "output_type": "stream",
     "text": [
      "Starting initial training with frozen base model...\n",
      "Epoch 1/10\n",
      "\u001b[1m340/340\u001b[0m \u001b[32m━━━━━━━━━━━━━━━━━━━━\u001b[0m\u001b[37m\u001b[0m \u001b[1m263s\u001b[0m 667ms/step - categorical_accuracy: 0.8045 - loss: 0.6235 - val_categorical_accuracy: 0.9617 - val_loss: 0.1243\n",
      "Epoch 2/10\n",
      "\u001b[1m340/340\u001b[0m \u001b[32m━━━━━━━━━━━━━━━━━━━━\u001b[0m\u001b[37m\u001b[0m \u001b[1m32s\u001b[0m 45ms/step - categorical_accuracy: 0.9048 - loss: 0.2098 - val_categorical_accuracy: 0.9617 - val_loss: 0.1236\n",
      "Epoch 3/10\n",
      "\u001b[1m340/340\u001b[0m \u001b[32m━━━━━━━━━━━━━━━━━━━━\u001b[0m\u001b[37m\u001b[0m \u001b[1m263s\u001b[0m 771ms/step - categorical_accuracy: 0.9581 - loss: 0.1458 - val_categorical_accuracy: 0.9784 - val_loss: 0.0792\n",
      "Epoch 4/10\n",
      "\u001b[1m340/340\u001b[0m \u001b[32m━━━━━━━━━━━━━━━━━━━━\u001b[0m\u001b[37m\u001b[0m \u001b[1m8s\u001b[0m 23ms/step - categorical_accuracy: 0.9524 - loss: 0.2216 - val_categorical_accuracy: 0.9792 - val_loss: 0.0790\n",
      "Epoch 5/10\n",
      "\u001b[1m340/340\u001b[0m \u001b[32m━━━━━━━━━━━━━━━━━━━━\u001b[0m\u001b[37m\u001b[0m \u001b[1m264s\u001b[0m 624ms/step - categorical_accuracy: 0.9689 - loss: 0.1058 - val_categorical_accuracy: 0.9840 - val_loss: 0.0604\n",
      "Epoch 6/10\n",
      "\u001b[1m340/340\u001b[0m \u001b[32m━━━━━━━━━━━━━━━━━━━━\u001b[0m\u001b[37m\u001b[0m \u001b[1m8s\u001b[0m 23ms/step - categorical_accuracy: 1.0000 - loss: 0.0427 - val_categorical_accuracy: 0.9836 - val_loss: 0.0603\n",
      "Epoch 7/10\n",
      "\u001b[1m340/340\u001b[0m \u001b[32m━━━━━━━━━━━━━━━━━━━━\u001b[0m\u001b[37m\u001b[0m \u001b[1m262s\u001b[0m 768ms/step - categorical_accuracy: 0.9685 - loss: 0.0909 - val_categorical_accuracy: 0.9847 - val_loss: 0.0525\n",
      "Epoch 8/10\n",
      "\u001b[1m340/340\u001b[0m \u001b[32m━━━━━━━━━━━━━━━━━━━━\u001b[0m\u001b[37m\u001b[0m \u001b[1m9s\u001b[0m 26ms/step - categorical_accuracy: 1.0000 - loss: 0.0104 - val_categorical_accuracy: 0.9847 - val_loss: 0.0524\n",
      "Epoch 9/10\n",
      "\u001b[1m340/340\u001b[0m \u001b[32m━━━━━━━━━━━━━━━━━━━━\u001b[0m\u001b[37m\u001b[0m \u001b[1m262s\u001b[0m 769ms/step - categorical_accuracy: 0.9754 - loss: 0.0771 - val_categorical_accuracy: 0.9862 - val_loss: 0.0478\n",
      "Epoch 10/10\n",
      "\u001b[1m340/340\u001b[0m \u001b[32m━━━━━━━━━━━━━━━━━━━━\u001b[0m\u001b[37m\u001b[0m \u001b[1m9s\u001b[0m 26ms/step - categorical_accuracy: 1.0000 - loss: 0.0195 - val_categorical_accuracy: 0.9862 - val_loss: 0.0478\n"
     ]
    }
   ],
   "source": [
    "print(\"Starting initial training with frozen base model...\")\n",
    "history_initial = model.fit(\n",
    "    train_dataset,\n",
    "    validation_data=valid_dataset,\n",
    "    epochs=10,\n",
    "    steps_per_epoch=STEPS_PER_EPOCH,\n",
    "    validation_steps=VALIDATION_STEPS\n",
    ")"
   ]
  },
  {
   "cell_type": "markdown",
   "metadata": {},
   "source": [
    "## 💾 Model Saving\n",
    "\n",
    "Saving the initial trained model for backup and deployment purposes."
   ]
  },
  {
   "cell_type": "code",
   "execution_count": null,
   "metadata": {
    "id": "cO1oTg5J8LAA"
   },
   "outputs": [],
   "source": [
    "model.save('InitialModelEfficient.keras')"
   ]
  },
  {
   "cell_type": "code",
   "execution_count": null,
   "metadata": {
    "colab": {
     "base_uri": "https://localhost:8080/",
     "height": 141
    },
    "id": "a6mXSG-I848F",
    "outputId": "95aa5b6d-6971-4144-8329-192efd327ae4"
   },
   "outputs": [
    {
     "ename": "TypeError",
     "evalue": "save() got an unexpected keyword argument 'save_format'",
     "output_type": "error",
     "traceback": [
      "\u001b[0;31m---------------------------------------------------------------------------\u001b[0m",
      "\u001b[0;31mTypeError\u001b[0m                                 Traceback (most recent call last)",
      "\u001b[0;32m<ipython-input-64-ea735eb2f348>\u001b[0m in \u001b[0;36m<cell line: 0>\u001b[0;34m()\u001b[0m\n\u001b[0;32m----> 1\u001b[0;31m \u001b[0mtf\u001b[0m\u001b[0;34m.\u001b[0m\u001b[0msaved_model\u001b[0m\u001b[0;34m.\u001b[0m\u001b[0msave\u001b[0m\u001b[0;34m(\u001b[0m\u001b[0mmodel\u001b[0m\u001b[0;34m,\u001b[0m \u001b[0;34m'InitialModelEfficientTF'\u001b[0m\u001b[0;34m,\u001b[0m \u001b[0msave_format\u001b[0m\u001b[0;34m=\u001b[0m\u001b[0;34m'tf'\u001b[0m\u001b[0;34m)\u001b[0m\u001b[0;34m\u001b[0m\u001b[0;34m\u001b[0m\u001b[0m\n\u001b[0m",
      "\u001b[0;31mTypeError\u001b[0m: save() got an unexpected keyword argument 'save_format'"
     ]
    }
   ],
   "source": [
    "tf.saved_model.save(model, 'InitialModelEfficientTF', save_format='tf')"
   ]
  },
  {
   "cell_type": "code",
   "execution_count": null,
   "metadata": {
    "colab": {
     "base_uri": "https://localhost:8080/"
    },
    "id": "giy4hvUmA8NC",
    "outputId": "884f0274-bca2-4835-fb5e-be5927515aad"
   },
   "outputs": [
    {
     "name": "stdout",
     "output_type": "stream",
     "text": [
      "  adding: InitialModelEfficient/ (stored 0%)\n",
      "  adding: InitialModelEfficient/assets/ (stored 0%)\n",
      "  adding: InitialModelEfficient/fingerprint.pb (stored 0%)\n",
      "  adding: InitialModelEfficient/saved_model.pb (deflated 93%)\n",
      "  adding: InitialModelEfficient/variables/ (stored 0%)\n",
      "  adding: InitialModelEfficient/variables/variables.index (deflated 78%)\n",
      "  adding: InitialModelEfficient/variables/variables.data-00000-of-00001 (deflated 8%)\n"
     ]
    }
   ],
   "source": [
    "!zip -r InitialModelEfficient.zip InitialModelEfficient"
   ]
  },
  {
   "cell_type": "markdown",
   "metadata": {},
   "source": [
    "## 📊 Initial Model Evaluation\n",
    "\n",
    "Evaluating the performance after the initial training phase."
   ]
  },
  {
   "cell_type": "code",
   "execution_count": null,
   "metadata": {
    "colab": {
     "base_uri": "https://localhost:8080/"
    },
    "id": "7ndRnjac4-22",
    "outputId": "12c1499e-9ed2-41a1-a20b-6140736e6d1e"
   },
   "outputs": [
    {
     "name": "stdout",
     "output_type": "stream",
     "text": [
      "\n",
      "Evaluating model after initial training (frozen base):\n",
      "\u001b[1m84/84\u001b[0m \u001b[32m━━━━━━━━━━━━━━━━━━━━\u001b[0m\u001b[37m\u001b[0m \u001b[1m9s\u001b[0m 107ms/step - categorical_accuracy: 0.9905 - loss: 0.0328\n",
      "Initial validation loss: 0.0478\n",
      "Initial validation accuracy: 0.9862\n"
     ]
    }
   ],
   "source": [
    "loss_initial, acc_initial = model.evaluate(\n",
    "    valid_dataset,\n",
    "    steps=VALIDATION_STEPS\n",
    ")"
   ]
  },
  {
   "cell_type": "markdown",
   "metadata": {},
   "source": [
    "## 🔧 Fine-Tuning\n",
    "\n",
    "Unfreezing the base model and training with a lower learning rate to fine-tune the pre-trained weights."
   ]
  },
  {
   "cell_type": "code",
   "execution_count": null,
   "metadata": {
    "id": "bMQ0-l0K5A0t"
   },
   "outputs": [],
   "source": [
    "base_model.trainable = True\n",
    "\n",
    "model.compile(\n",
    "    optimizer=keras.optimizers.Adam(learning_rate=1e-5),\n",
    "    loss=keras.losses.CategoricalCrossentropy(),\n",
    "    metrics=[keras.metrics.CategoricalAccuracy()]\n",
    ")\n",
    "\n",
    "model.summary()"
   ]
  },
  {
   "cell_type": "code",
   "execution_count": null,
   "metadata": {
    "id": "A_Je5pyu5ESV"
   },
   "outputs": [],
   "source": [
    "print(\"\\nStarting fine-tuning training with unfrozen base model...\")\n",
    "epochs_fine_tuning = 15\n",
    "initial_epoch_count = history_initial.epoch[-1] + 1\n",
    "\n",
    "history_fine_tune = model.fit(\n",
    "    train_dataset,\n",
    "    validation_data=valid_dataset,\n",
    "    epochs=initial_epoch_count + epochs_fine_tuning,\n",
    "    initial_epoch=initial_epoch_count,\n",
    "    steps_per_epoch=STEPS_PER_EPOCH,\n",
    "    validation_steps=VALIDATION_STEPS\n",
    ")"
   ]
  },
  {
   "cell_type": "markdown",
   "metadata": {},
   "source": [
    "## 🎉 Final Model Evaluation\n",
    "\n",
    "Evaluating the final model performance after fine-tuning to see the improvement."
   ]
  },
  {
   "cell_type": "code",
   "execution_count": null,
   "metadata": {
    "id": "_CcTa22i5GIU"
   },
   "outputs": [],
   "source": [
    "loss_final, acc_final = model.evaluate(\n",
    "    valid_dataset,\n",
    "    steps=VALIDATION_STEPS\n",
    ")\n",
    "print(f\"Final validation loss: {loss_final:.4f}\")\n",
    "print(f\"Final validation accuracy: {acc_final:.4f}\")"
   ]
  },
  {
   "cell_type": "code",
   "execution_count": null,
   "metadata": {
    "id": "wF59rEEP5Hs4"
   },
   "outputs": [],
   "source": [
    "class_names = train_dataset.class_names\n",
    "print(\"\\nClass Names:\", class_names)\n",
    "\n",
    "class_indices_map = {name: i for i, name in enumerate(class_names)}\n",
    "print(\"Class Indices Map:\", class_indices_map)\n",
    "\n",
    "print(\"Model Metrics Names:\", model.metrics_names)"
   ]
  },
  {
   "cell_type": "markdown",
   "metadata": {
    "id": "rk3t6FG95Oc8"
   },
   "source": [
    "## 🚀 Model Export for Web Deployment\n",
    "\n",
    "Converting the trained model to TensorFlow.js format for web application deployment."
   ]
  },
  {
   "cell_type": "code",
   "execution_count": null,
   "metadata": {
    "id": "HRwknN14CY7c"
   },
   "outputs": [],
   "source": [
    "!rm -rf ./InitialModelEfficientjskeras"
   ]
  },
  {
   "cell_type": "code",
   "execution_count": null,
   "metadata": {
    "colab": {
     "base_uri": "https://localhost:8080/"
    },
    "id": "T8rRvZKsB2_t",
    "outputId": "17e640a4-c1f2-4ec9-e06c-552eb060b65b"
   },
   "outputs": [
    {
     "name": "stdout",
     "output_type": "stream",
     "text": [
      "2025-06-02 01:19:50.601053: E external/local_xla/xla/stream_executor/cuda/cuda_fft.cc:477] Unable to register cuFFT factory: Attempting to register factory for plugin cuFFT when one has already been registered\n",
      "WARNING: All log messages before absl::InitializeLog() is called are written to STDERR\n",
      "E0000 00:00:1748827190.629539   47118 cuda_dnn.cc:8310] Unable to register cuDNN factory: Attempting to register factory for plugin cuDNN when one has already been registered\n",
      "E0000 00:00:1748827190.639752   47118 cuda_blas.cc:1418] Unable to register cuBLAS factory: Attempting to register factory for plugin cuBLAS when one has already been registered\n",
      "\u001b[32m🌲 Try \u001b[0m\u001b[34mhttps://ydf.readthedocs.io\u001b[0m\u001b[32m, the successor of TensorFlow Decision Forests with more features and faster training!\u001b[0m\n",
      "2025-06-02 01:19:54.756172: W tensorflow/core/common_runtime/gpu/gpu_bfc_allocator.cc:47] Overriding orig_value setting because the TF_FORCE_GPU_ALLOW_GROWTH environment variable is set. Original config value was 0.\n",
      "I0000 00:00:1748827194.756384   47118 gpu_device.cc:2022] Created device /job:localhost/replica:0/task:0/device:GPU:0 with 697 MB memory:  -> device: 0, name: Tesla T4, pci bus id: 0000:00:04.0, compute capability: 7.5\n",
      "I0000 00:00:1748827198.620857   47118 devices.cc:67] Number of eligible GPUs (core count >= 8, compute capability >= 0.0): 1\n",
      "WARNING: All log messages before absl::InitializeLog() is called are written to STDERR\n",
      "I0000 00:00:1748827198.621070   47118 single_machine.cc:361] Starting new session\n",
      "I0000 00:00:1748827198.622027   47118 gpu_device.cc:2022] Created device /job:localhost/replica:0/task:0/device:GPU:0 with 697 MB memory:  -> device: 0, name: Tesla T4, pci bus id: 0000:00:04.0, compute capability: 7.5\n"
     ]
    }
   ],
   "source": [
    "!tensorflowjs_converter --input_format=tf_saved_model --weight_shard_size_bytes=30000000 ./InitialModelEfficient ./InitialModelEfficientjskeras\n"
   ]
  },
  {
   "cell_type": "markdown",
   "metadata": {},
   "source": [
    "## ✅ Summary\n",
    "\n",
    "This notebook successfully implemented a fruit freshness classification model with the following achievements:\n",
    "\n",
    "### 🎯 **Model Performance**\n",
    "- Built using **EfficientNetV2B1** pre-trained architecture\n",
    "- Achieved classification across **6 classes** (3 fruits × 2 conditions)\n",
    "- Implemented **transfer learning** with fine-tuning strategy\n",
    "\n",
    "### 🔧 **Technical Implementation**\n",
    "- **Data Augmentation**: Random flips, rotations, zoom, and contrast adjustments\n",
    "- **Two-phase Training**: Initial frozen training followed by fine-tuning\n",
    "- **Model Export**: TensorFlow.js format for web deployment\n",
    "\n",
    "### 📊 **Dataset**\n",
    "- **Training**: 10,901 images\n",
    "- **Validation**: 2,698 images\n",
    "- **Classes**: Fresh/Rotten × Apples/Bananas/Oranges\n",
    "\n",
    "The model is now ready for deployment in the CheckFresh mobile application! 🍎📱"
   ]
  }
 ],
 "metadata": {
  "accelerator": "GPU",
  "colab": {
   "gpuType": "T4",
   "provenance": []
  },
  "kernelspec": {
   "display_name": "Python 3",
   "name": "python3"
  },
  "language_info": {
   "name": "python"
  }
 },
 "nbformat": 4,
 "nbformat_minor": 0
}
